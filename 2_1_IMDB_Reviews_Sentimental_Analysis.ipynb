{
  "nbformat": 4,
  "nbformat_minor": 0,
  "metadata": {
    "colab": {
      "name": "2.1 IMDB Reviews_Sentimental Analysis.ipynb",
      "provenance": [],
      "collapsed_sections": []
    },
    "kernelspec": {
      "name": "python3",
      "display_name": "Python 3"
    },
    "accelerator": "GPU"
  },
  "cells": [
    {
      "cell_type": "markdown",
      "metadata": {
        "id": "BUOD5O1rZ68v"
      },
      "source": [
        "## **3.3 IMDB Reviews Sentimental Analysis**\n",
        "With the rise of online social media platforms like Twitter, Facebook and Reddit, and the proliferation of customer reviews on sites like Amazon and Yelp, we now have access, more than ever before, to massive text-based data sets! They can be analyzed in order to determine how large portions of the population feel about certain products, events, etc. This sort of analysis is called **Sentiment Analysis**. \n",
        "\n",
        "The IMDb reviews dataset is\n",
        "the “hello world” of natural language processing: it consists of 50,000 movie reviews\n",
        "in English (25,000 for training, 25,000 for testing) extracted from the famous Internet\n",
        "Movie Database, along with a simple binary target for each review indicating whether\n",
        "it is negative (0) or positive (1). In this project we will build a **Sentiment Classification**"
      ]
    },
    {
      "cell_type": "markdown",
      "metadata": {
        "id": "p3A7TGSbaE1_"
      },
      "source": [
        "### **Import and load data**"
      ]
    },
    {
      "cell_type": "code",
      "metadata": {
        "id": "6ULUWeeLZ7nA"
      },
      "source": [
        "import tensorflow as tf\n",
        "import numpy as np\n",
        "from tensorflow import keras\n",
        "from tensorflow.keras.preprocessing.text import Tokenizer\n",
        "from tensorflow.keras.preprocessing.sequence import pad_sequences\n",
        "import tensorflow_datasets as tfds\n",
        "datasets, info = tfds.load(\"imdb_reviews\", with_info=True, as_supervised=True)"
      ],
      "execution_count": null,
      "outputs": []
    },
    {
      "cell_type": "markdown",
      "metadata": {
        "id": "D057GT2JbfQ8"
      },
      "source": [
        "### **Preprocess data for training and testing**\n",
        "- split data into training and testing\n",
        "- create lists for sentences and labels (for data to be copied into)\n",
        "- copy data into lists: iterate through list for train_data and test_data\n",
        "- convert labels into numpy arrays-these will be used for training and testing network\n",
        "- print training and testing data\n"
      ]
    },
    {
      "cell_type": "code",
      "metadata": {
        "colab": {
          "base_uri": "https://localhost:8080/"
        },
        "id": "KgZMs9oSw1tR",
        "outputId": "2a098064-30a7-48b3-eabb-f5b230969969"
      },
      "source": [
        "# taining and testing from datasets\n",
        "train_data = datasets['train']\n",
        "test_data = datasets['test']\n",
        "\n",
        "# training sentences and labels lists\n",
        "training_sentences =[]\n",
        "training_labels =[]\n",
        "testing_sentences =[]\n",
        "testing_labels =[]\n",
        "\n",
        "# iterate through list for train_data and test_data\n",
        "for s,l in train_data:\n",
        "  training_sentences.append(s.numpy())\n",
        "  training_labels.append(l.numpy())\n",
        "  \n",
        "\n",
        "for s,l in test_data:\n",
        "  testing_sentences.append(s.numpy())\n",
        "  testing_labels.append(l.numpy())\n",
        "\n",
        "# convert labels into numpy arrays-these is for training and testing network\n",
        "training_labels_final = np.array(training_labels)   \n",
        "training_sentences_final = np.array(testing_labels)    \n",
        "\n",
        "print(len(train_data))\n",
        "print(len(test_data))"
      ],
      "execution_count": null,
      "outputs": [
        {
          "output_type": "stream",
          "text": [
            "25000\n",
            "25000\n"
          ],
          "name": "stdout"
        }
      ]
    },
    {
      "cell_type": "markdown",
      "metadata": {
        "id": "R2iOgGaUg3gc"
      },
      "source": [
        "Pandas dataframe.keys() function returns the ‘info axis’ for the pandas object. If the pandas object is series then it returns index. If the pandas object is dataframe then it returns columns.\n",
        "- get the information from the dataset"
      ]
    },
    {
      "cell_type": "code",
      "metadata": {
        "colab": {
          "base_uri": "https://localhost:8080/"
        },
        "id": "fM4IMzLYfJ8y",
        "outputId": "6f4ba7a0-1c5e-4a95-f6a1-343f768d6281"
      },
      "source": [
        "datasets.keys()"
      ],
      "execution_count": null,
      "outputs": [
        {
          "output_type": "execute_result",
          "data": {
            "text/plain": [
              "dict_keys(['test', 'train', 'unsupervised'])"
            ]
          },
          "metadata": {
            "tags": []
          },
          "execution_count": 3
        }
      ]
    },
    {
      "cell_type": "markdown",
      "metadata": {
        "id": "q7M_r5Xngwyw"
      },
      "source": [
        "### **Preprocessing movie review data**\n",
        "It starts by truncating the reviews, keeping only the first 300 characters of each: this\n",
        "will speed up training, and it won’t impact performance too much because you can\n",
        "generally tell whether a review is positive or not in the first sentence or two. Then it\n",
        "uses regular expressions to replace <br /> tags with spaces, and to replace any characters\n",
        "other than letters and quotes with spaces. For example, the text \"Well, I\n",
        "can't<br />\" will become \"Well I can't\". Finally, the preprocess() function\n",
        "splits the reviews by the spaces, which returns a ragged tensor, and it converts this\n",
        "ragged tensor to a dense tensor, padding all reviews with the padding token \"<pad>\"\n",
        "so that they all have the same length.\n",
        "- iterate x_batch and y_batch in dataset\n",
        "- create preprocess function\n",
        "- preprocess x_batch, y_batch"
      ]
    },
    {
      "cell_type": "code",
      "metadata": {
        "colab": {
          "base_uri": "https://localhost:8080/"
        },
        "id": "Jb0_KdkXd0cJ",
        "outputId": "f5a3a5fd-6c89-471e-c602-f45afe29ea42"
      },
      "source": [
        "# iterate x_batch and y_batch in dataset\n",
        "for X_batch, y_batch in datasets[\"train\"].batch(2).take(1):\n",
        "    for review, label in zip(X_batch.numpy(), y_batch.numpy()):\n",
        "        print(\"Review:\", review,\"...\")\n",
        "        print(\"Label:\", label, \"= Positive\" if label else \"= Negative\")\n",
        "        print()"
      ],
      "execution_count": null,
      "outputs": [
        {
          "output_type": "stream",
          "text": [
            "Review: b\"This was an absolutely terrible movie. Don't be lured in by Christopher Walken or Michael Ironside. Both are great actors, but this must simply be their worst role in history. Even their great acting could not redeem this movie's ridiculous storyline. This movie is an early nineties US propaganda piece. The most pathetic scenes were those when the Columbian rebels were making their cases for revolutions. Maria Conchita Alonso appeared phony, and her pseudo-love affair with Walken was nothing but a pathetic emotional plug in a movie that was devoid of any real meaning. I am disappointed that there are movies like this, ruining actor's like Christopher Walken's good name. I could barely sit through it.\" ...\n",
            "Label: 0 = Negative\n",
            "\n",
            "Review: b'I have been known to fall asleep during films, but this is usually due to a combination of things including, really tired, being warm and comfortable on the sette and having just eaten a lot. However on this occasion I fell asleep because the film was rubbish. The plot development was constant. Constantly slow and boring. Things seemed to happen, but with no explanation of what was causing them or why. I admit, I may have missed part of the film, but i watched the majority of it and everything just seemed to happen of its own accord without any real concern for anything else. I cant recommend this film at all.' ...\n",
            "Label: 0 = Negative\n",
            "\n"
          ],
          "name": "stdout"
        }
      ]
    },
    {
      "cell_type": "markdown",
      "metadata": {
        "id": "L_uCsleIe8jL"
      },
      "source": [
        "### **Preprocessing data**\n",
        "- Hyperparameters: value set before ML process\n",
        "- Tokenize sentences: tokenizer creates sequences\n",
        "- fit_on_texts method: encodes data, tokenize a list of sentence\n",
        "- word_index key value pairs: the key is the word, and the value is the token for that word.\n",
        "- <00V> out of vocabulary words: words not in index\n",
        "- texts_to_sequences(sentences): encodes sentences from fit_on_text\n",
        "\n"
      ]
    },
    {
      "cell_type": "markdown",
      "metadata": {
        "id": "8RJJEnG1itOn"
      },
      "source": [
        "### **Adding parameters**\n",
        "let’s truncate the vocabulary, keeping only the\n",
        "10,000 most common words with maximum length of 120 with truncating type being post and embedding dimension of 16"
      ]
    },
    {
      "cell_type": "code",
      "metadata": {
        "id": "Bazt9bBQe2f3"
      },
      "source": [
        "# parameters\n",
        "\n",
        "vocab_size=10000\n",
        "oov_tok = \"<OOV>\"\n",
        "max_length = 120\n",
        "trunc_type = \"post\"\n",
        "embedding_dim = 16\n",
        "\n",
        "#num_words, fit_on_text, word_index, sequences\n",
        "tokenizer = Tokenizer(num_words = vocab_size, oov_token=oov_tok)\n",
        "tokenizer.fit_on_texts(training_sentences) # encodes data: tokenize a list of sentence\n",
        "word_index = tokenizer.word_index # split words into text and integers\n",
        "sequences = tokenizer.texts_to_sequences(training_sentences) # encodes sentences\n",
        "padded = pad_sequences(sequences,maxlen=max_length, truncating=trunc_type)\n",
        "\n",
        "testing_sequences = tokenizer.texts_to_sequences(testing_sentences)\n",
        "testing_padded = pad_sequences(testing_sequences,maxlen=max_length)\n",
        "\n"
      ],
      "execution_count": null,
      "outputs": []
    },
    {
      "cell_type": "markdown",
      "metadata": {
        "id": "0pqbstM1lCQu"
      },
      "source": [
        "### **Build (layers)compile neural network model**\n",
        "Now we're ready to build our simple neural network. We'll start by defining the type of model we want to build. We are going to uses a Sequential model which defines a sequence of layers in the neural network.\n",
        "Next we simply add the input-, hidden- and output-layers. Between them, we are using dropout to prevent overfitting. The first layer is an Embedding layer, which will convert word IDs into embeddings. The embedding matrix needs to have one row per word\n",
        "ID (vocab_size, embedding_dim, input_length=max_length) and one column per embedding dimension.\n",
        "      \n",
        "    Sigmoid network predict values between 0 and 1 probability.\n",
        "    Softmax takes a set of values, and effectively picks the biggest one\n",
        "    Relu > 0\n",
        "    last Dense Layer is the output layer where we use the sigmoid function\n"
      ]
    },
    {
      "cell_type": "code",
      "metadata": {
        "id": "5xR5zU7glP-i",
        "colab": {
          "base_uri": "https://localhost:8080/"
        },
        "outputId": "76a101ef-9355-46de-d10a-b049a89876c2"
      },
      "source": [
        "model = tf.keras.Sequential([\n",
        "    tf.keras.layers.Embedding(vocab_size, embedding_dim, input_length=max_length),\n",
        "    tf.keras.layers.Flatten(),\n",
        "    tf.keras.layers.Dropout(0.3, noise_shape=None, seed=None),\n",
        "    tf.keras.layers.Dense(6, activation='relu'),\n",
        "    tf.keras.layers.Dense(1, activation='sigmoid')\n",
        "])\n",
        "\n",
        "model.summary()\n",
        "model.compile(optimizer='adam',\n",
        "              loss='binary_crossentropy',\n",
        "              metrics = ['acc'])"
      ],
      "execution_count": null,
      "outputs": [
        {
          "output_type": "stream",
          "text": [
            "Model: \"sequential\"\n",
            "_________________________________________________________________\n",
            "Layer (type)                 Output Shape              Param #   \n",
            "=================================================================\n",
            "embedding (Embedding)        (None, 120, 16)           160000    \n",
            "_________________________________________________________________\n",
            "flatten (Flatten)            (None, 1920)              0         \n",
            "_________________________________________________________________\n",
            "dropout (Dropout)            (None, 1920)              0         \n",
            "_________________________________________________________________\n",
            "dense (Dense)                (None, 6)                 11526     \n",
            "_________________________________________________________________\n",
            "dense_1 (Dense)              (None, 1)                 7         \n",
            "=================================================================\n",
            "Total params: 171,533\n",
            "Trainable params: 171,533\n",
            "Non-trainable params: 0\n",
            "_________________________________________________________________\n"
          ],
          "name": "stdout"
        }
      ]
    },
    {
      "cell_type": "markdown",
      "metadata": {
        "id": "mxd86r6-nAV7"
      },
      "source": [
        "### **Train(fit) neural network**\n",
        "Now we compile our model, which is nothing but configuring the model for training. We use the “adam” optimizer, an algorithm that changes the weights and biases during training. We also choose binary-crossentropy as loss (because we deal with binary classification) and accuracy as our evaluation metric."
      ]
    },
    {
      "cell_type": "code",
      "metadata": {
        "id": "5-j3PGpgnGdl",
        "colab": {
          "base_uri": "https://localhost:8080/"
        },
        "outputId": "1a7d3df0-88c0-49a5-fda1-7723f63a60e5"
      },
      "source": [
        "history = model.fit(padded,\n",
        "          training_labels_final,\n",
        "          epochs=10,validation_data=(testing_padded, testing_labels_final))"
      ],
      "execution_count": null,
      "outputs": [
        {
          "output_type": "stream",
          "text": [
            "Epoch 1/10\n",
            "782/782 [==============================] - 5s 6ms/step - loss: 0.0210 - acc: 0.9924 - val_loss: 0.7967 - val_acc: 0.8244\n",
            "Epoch 2/10\n",
            "782/782 [==============================] - 5s 6ms/step - loss: 0.0187 - acc: 0.9932 - val_loss: 0.8405 - val_acc: 0.8216\n",
            "Epoch 3/10\n",
            "782/782 [==============================] - 5s 6ms/step - loss: 0.0166 - acc: 0.9942 - val_loss: 0.8823 - val_acc: 0.8213\n",
            "Epoch 4/10\n",
            "782/782 [==============================] - 5s 6ms/step - loss: 0.0155 - acc: 0.9944 - val_loss: 0.8894 - val_acc: 0.8268\n",
            "Epoch 5/10\n",
            "782/782 [==============================] - 5s 6ms/step - loss: 0.0164 - acc: 0.9946 - val_loss: 0.9232 - val_acc: 0.8214\n",
            "Epoch 6/10\n",
            "782/782 [==============================] - 5s 6ms/step - loss: 0.0153 - acc: 0.9940 - val_loss: 0.9263 - val_acc: 0.8191\n",
            "Epoch 7/10\n",
            "782/782 [==============================] - 5s 6ms/step - loss: 0.0176 - acc: 0.9937 - val_loss: 0.9638 - val_acc: 0.8142\n",
            "Epoch 8/10\n",
            "782/782 [==============================] - 5s 6ms/step - loss: 0.0142 - acc: 0.9948 - val_loss: 0.9443 - val_acc: 0.8210\n",
            "Epoch 9/10\n",
            "782/782 [==============================] - 5s 6ms/step - loss: 0.0147 - acc: 0.9949 - val_loss: 0.9930 - val_acc: 0.8196\n",
            "Epoch 10/10\n",
            "782/782 [==============================] - 5s 6ms/step - loss: 0.0139 - acc: 0.9951 - val_loss: 0.9409 - val_acc: 0.8213\n"
          ],
          "name": "stdout"
        }
      ]
    },
    {
      "cell_type": "code",
      "metadata": {
        "id": "AFmsdbCWfW7k",
        "colab": {
          "base_uri": "https://localhost:8080/",
          "height": 541
        },
        "outputId": "ed00885f-63e1-424c-97bd-23b137d66fae"
      },
      "source": [
        "import matplotlib.pyplot as plt\n",
        "\n",
        "def plot_graphs(history, string):\n",
        "  plt.plot(history.history[string])\n",
        "  plt.plot(history.history['val_'+string])\n",
        "  plt.xlabel(\"Epochs\")\n",
        "  plt.ylabel(string)\n",
        "  plt.legend([string, 'val_'+string])\n",
        "  plt.show()\n",
        "  \n",
        "plot_graphs(history, \"acc\")\n",
        "plot_graphs(history, \"loss\")"
      ],
      "execution_count": null,
      "outputs": [
        {
          "output_type": "display_data",
          "data": {
            "image/png": "[encoded data removed]",
            "text/plain": [
              "<Figure size 432x288 with 1 Axes>"
            ]
          },
          "metadata": {
            "tags": [],
            "needs_background": "light"
          }
        },
        {
          "output_type": "display_data",
          "data": {
            "image/png": "[encoded data removed]",
            "text/plain": [
              "<Figure size 432x288 with 1 Axes>"
            ]
          },
          "metadata": {
            "tags": [],
            "needs_background": "light"
          }
        }
      ]
    },
    {
      "cell_type": "markdown",
      "metadata": {
        "id": "G-j89N1pXO6W"
      },
      "source": [
        "### **Evaluate model**\n",
        "- And let's see how the model performs. Two values will be returned. Loss and accuracy.\n",
        "- Display the test accuracy score"
      ]
    },
    {
      "cell_type": "code",
      "metadata": {
        "colab": {
          "base_uri": "https://localhost:8080/"
        },
        "id": "ActG9Qa4VgDm",
        "outputId": "95c2125e-b950-451d-8058-f3a855e4b239"
      },
      "source": [
        "# Evaluate model\n",
        "print(\"Test-Accuracy:\", np.mean(history.history[\"val_acc\"]))"
      ],
      "execution_count": null,
      "outputs": [
        {
          "output_type": "stream",
          "text": [
            "Test-Accuracy: 0.8210559964179993\n"
          ],
          "name": "stdout"
        }
      ]
    },
    {
      "cell_type": "markdown",
      "metadata": {
        "id": "xd4xHFYRXcSL"
      },
      "source": [
        "With this model we got an accuracy of about 82%. the model performed well on the test."
      ]
    }
  ]
}